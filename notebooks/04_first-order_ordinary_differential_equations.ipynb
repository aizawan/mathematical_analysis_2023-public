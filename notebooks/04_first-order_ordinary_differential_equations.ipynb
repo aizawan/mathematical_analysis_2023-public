{
 "cells": [
  {
   "attachments": {},
   "cell_type": "markdown",
   "id": "be0f83d0",
   "metadata": {},
   "source": [
    "# 第4回: 一階常微分方程式"
   ]
  },
  {
   "attachments": {},
   "cell_type": "markdown",
   "id": "43cb86f4",
   "metadata": {},
   "source": [
    "## 概要\n",
    "第4回の講義では，解法の導入として一階の常微分方程式について説明する．このような微分方程式を扱うためには，変数分離法，積分因子法，完全微分方程式による解法など方程式の形に応じて主要な解法が存在する．ここでは，最も基本的で強力な変数分離法を紹介する．本講義では以下の点を理解できることを期待する．\n",
    "\n",
    "- 一階常微分方程式の形式を理解する．\n",
    "- 一階常微分方程式の一般的な解法である変数分離法を使いこなすことができる．\n",
    "- 実際に計算した方程式の解をプログラミングする．"
   ]
  },
  {
   "attachments": {},
   "cell_type": "markdown",
   "id": "b53fbe93",
   "metadata": {},
   "source": [
    "## 一階常微分方程式 →[[Stream](https://web.microsoftstream.com/video/8f69510e-274f-4c9e-93c0-37236102889d)]\n",
    "復習であるが，一階常微分方程式とは，独立変数が一つで，かつ未知関数の導関数が1階であるときの微分方程式である．その一般形は以下のように表される．\n",
    "\n",
    "$$\n",
    "\\begin{align}\n",
    "\\frac{dy}{dx} = f(x,y)\n",
    "\\end{align}\n",
    "$$\n",
    "\n",
    "ここで，独立変数は$x$，求めたい未知関数は$y=y(x)$，その導関数は$\\frac{dy}{dx}$であり，右辺の$x$と$y$の関数$f(x,y)$の形状に応じて解法が異なる．"
   ]
  },
  {
   "attachments": {},
   "cell_type": "markdown",
   "id": "0ede20cc",
   "metadata": {},
   "source": [
    "## 直接積分形\n",
    "変数分離法の前に前回の講義の復習をする．前回は関数 $f(x,y)$ が変数$x$にのみ依存した関数$g(x)$であるときの場合を考えた．すなわち，\n",
    "\n",
    "$$\n",
    "\\begin{align}\n",
    "\\frac{dy}{dx} = g(x)\n",
    "\\end{align}\n",
    "$$\n",
    "\n",
    "の関数の形式の微分方程式である．この微分方程式の一般解は以下で与えられる．\n",
    "\n",
    "$$\n",
    "\\begin{align}\n",
    "y(x) = \\int g(x) dx + C\n",
    "\\end{align}\n",
    "$$\n",
    "\n",
    "ただし，$C$は積分定数である．"
   ]
  },
  {
   "attachments": {},
   "cell_type": "markdown",
   "id": "156c46e3",
   "metadata": {},
   "source": [
    "### 一般解の導出\n",
    "与えられた一階常微分方程式が上記のような形状に変形可能であるとき，次のステップを踏むことで未知関数 $y=y(x)$ を計算できる．\n",
    "\n",
    "まず，前述した分離形の微分方程式の両辺に$dx$をかけると以下のようになる\n",
    "\n",
    "$$\n",
    "\\begin{align}\n",
    "dy = g(x)dx\n",
    "\\end{align}\n",
    "$$\n",
    "\n",
    "式を見てわかるように，$x$と$y$の項がそれぞれ両辺に移項できたことがわかる．続いて両辺を積分する．\n",
    "\n",
    "$$\n",
    "\\begin{align}\n",
    "\\int dy = \\int g(x)dx\n",
    "\\end{align}\n",
    "$$\n",
    "\n",
    "この積分を求めるとで以下の微分方程式の解である未知関数 $y(x)$が得られる．\n",
    "\n",
    "$$\n",
    "\\begin{align}\n",
    "y(x) = \\int g(x) dx + C\n",
    "\\end{align}\n",
    "$$\n",
    "\n",
    "ただし，$C$は積分定数である．これは後述する変数分離法で$y$に関する項がないときの特殊な形式である．"
   ]
  },
  {
   "attachments": {},
   "cell_type": "markdown",
   "id": "789b374d",
   "metadata": {},
   "source": [
    "## 変数分離形\n",
    "変数分離形とは，微分方程式の関数 $f(x,y)$が$x$と$y$のそれぞれの関数$g(x),h(y)$に分離できるときに利用できる解法である．すなわち，\n",
    "\n",
    "$$\n",
    "\\begin{align}\n",
    "\\frac{dy}{dx} = g(x)h(y)\n",
    "\\end{align}\n",
    "$$\n",
    "\n",
    "に式変形できるときに利用される方法である．変数分離形は常微分方程式の解法の中でも最も基本的で強力な解法の一つであるので，実際に計算し，身につけてほしい．"
   ]
  },
  {
   "attachments": {},
   "cell_type": "markdown",
   "id": "a4a378c1",
   "metadata": {},
   "source": [
    "### 変数分離形の解法\n",
    "与えられた一階常微分方程式が上記のような形状に式変形可能であるとき，次のステップを踏むことで未知関数 $y=y(x)$ を計算できる．\n",
    "\n",
    "まず，前述した分離形の微分方程式の両辺に$dx$をかけると以下のようになる\n",
    "\n",
    "$$\n",
    "\\begin{align}\n",
    "dy = g(x)h(y)dx\n",
    "\\end{align}\n",
    "$$\n",
    "\n",
    "続いて，両辺を$h(y)$で割ると以下のようになる．\n",
    "\n",
    "$$\n",
    "\\begin{align}\n",
    "\\frac{1}{h(y)}dy = g(x)dx\n",
    "\\end{align}\n",
    "$$\n",
    "\n",
    "式を見てわかるように，$x$と$y$の項がそれぞれ両辺に移項できたことがわかる．最後に両辺を積分する．\n",
    "\n",
    "$$\n",
    "\\begin{align}\n",
    "\\int\\frac{1}{h(y)}dy = \\int g(x)dx\n",
    "\\end{align}\n",
    "$$\n",
    "\n",
    "この積分を実行することで微分方程式の解である未知関数 $y(x)$を求めることができる．"
   ]
  },
  {
   "attachments": {},
   "cell_type": "markdown",
   "id": "671d6cb5",
   "metadata": {},
   "source": [
    "### 変数分離形の具体例\n",
    "では，次の微分方程式を変数分離形で解いてみよう．以下の微分方程式は $g(x)=1, h(y)=y$のときの場合である．\n",
    "\n",
    "$$\n",
    "\\begin{align}\n",
    "\\frac{dy}{dx} = y\n",
    "\\end{align}\n",
    "$$\n",
    "\n",
    "解答はクリックで確認できる．\n",
    "\n",
    "````{toggle}\n",
    "まず，左辺に $y$ のみ，右辺に $x$ の項のみとなるように整理すると，\n",
    "\n",
    "$$\n",
    "\\begin{align}\n",
    "\\frac{dy}{y} = dx\n",
    "\\end{align}\n",
    "$$\n",
    "\n",
    "となる．続いて，両辺を積分することを考える．\n",
    "\n",
    "$$\n",
    "\\begin{align}\n",
    "\\int \\frac{dy}{y} = \\int dx\n",
    "\\end{align}\n",
    "$$\n",
    "\n",
    "より，積分すると以下となる．\n",
    "\n",
    "$$\n",
    "\\begin{align}\n",
    "\\log |y| = x + C'\n",
    "\\end{align}\n",
    "$$\n",
    "\n",
    "\n",
    "ここで本来ならば，左辺の積分定数 $C_1$ と右辺の積分定数 $C_2$ が存在するがまとめて $C'=C_1 + C_2$ としている．対数の定義より，$\\log |y| = x \\rightarrow e^x = |y|$ であり，絶対値を外すと，$y=\\pm e^x$ となる．よって一般解は，\n",
    "\n",
    "$$\n",
    "\\begin{align}\n",
    "|y| &= e^{x + C'} \\\\\n",
    "y &= \\pm e^{C'} e^x \\\\\n",
    "y & = C e^x\n",
    "\\end{align}\n",
    "$$\n",
    "\n",
    "となる．ただし，$C=\\pm e^{C'}$ としている．以上より，与えられた微分方程式を変数分離形で解くことができた．\n",
    "````"
   ]
  },
  {
   "attachments": {},
   "cell_type": "markdown",
   "id": "607df1ff",
   "metadata": {},
   "source": [
    "### Pythonによる実装\n",
    "では，上記の微分方程式をsympyで解く．単一のセルで作成したが，各行での動作は前回の講義のようにStep-by-stepで確認されたい．"
   ]
  },
  {
   "cell_type": "code",
   "execution_count": null,
   "id": "c5e5185f",
   "metadata": {},
   "outputs": [],
   "source": [
    "from sympy import symbols, Eq, Derivative, Function, dsolve\n",
    "\n",
    "# 変数と未知関数の定義\n",
    "x = symbols('x')\n",
    "y = Function('y')(x)\n",
    "\n",
    "# dy/dxの定義\n",
    "dy = Derivative(y, x)\n",
    "\n",
    "# 微分方程式の定義\n",
    "eq = Eq(dy, y)\n",
    "\n",
    "# 微分方程式を解く\n",
    "y_ = dsolve(eq, y)\n",
    "y_"
   ]
  },
  {
   "attachments": {},
   "cell_type": "markdown",
   "id": "9edf44be",
   "metadata": {},
   "source": [
    "手計算と結果が一致することを確認されたい．最後に解集合を可視化する．"
   ]
  },
  {
   "cell_type": "code",
   "execution_count": null,
   "id": "2c165e61",
   "metadata": {},
   "outputs": [],
   "source": [
    "import numpy as np\n",
    "from sympy import plotting\n",
    "import matplotlib.pyplot as plt\n",
    "\n",
    "N = 10\n",
    "\n",
    "eqs = []\n",
    "for c in np.linspace(-3, 3, N):\n",
    "    eqs.append(y_.rhs.subs(symbols('C1'), c))\n",
    "p = plotting.plot(*eqs, (x, -2, 2), show=False)\n",
    "\n",
    "cm = plt.get_cmap('magma', N)\n",
    "for i in range(cm.N):\n",
    "    p[i].line_color = cm(i)\n",
    "p.show()\n"
   ]
  },
  {
   "attachments": {},
   "cell_type": "markdown",
   "id": "44290c06",
   "metadata": {},
   "source": [
    "### 課題\n",
    "**課題1:** 次の微分方程式の一般解を求めよ．\n",
    "\n",
    "$$\n",
    "\\begin{align}\n",
    "\\frac{dy}{dx} + y = 1\n",
    "\\end{align}\n",
    "$$"
   ]
  },
  {
   "attachments": {},
   "cell_type": "markdown",
   "id": "452679a3",
   "metadata": {},
   "source": [
    "**課題2:** 次の微分方程式の一般解を求めよ．\n",
    "\n",
    "$$\n",
    "\\begin{align}\n",
    "\\frac{dy}{dx} = xy\n",
    "\\end{align}\n",
    "$$"
   ]
  },
  {
   "attachments": {},
   "cell_type": "markdown",
   "id": "a3f9044c",
   "metadata": {},
   "source": [
    "**課題3:** 次の微分方程式の一般解を求めよ．\n",
    "\n",
    "$$\n",
    "\\begin{align}\n",
    "\\frac{dy}{dx} = y^2 + 1\n",
    "\\end{align}\n",
    "$$"
   ]
  },
  {
   "attachments": {},
   "cell_type": "markdown",
   "id": "99c5fbb7",
   "metadata": {},
   "source": [
    "**課題4:** 次の微分方程式の一般解を求めよ．\n",
    "\n",
    "$$\n",
    "\\begin{align}\n",
    "\\left( x + 1\\right) \\frac{dy}{dx} = y\n",
    "\\end{align}\n",
    "$$"
   ]
  },
  {
   "attachments": {},
   "cell_type": "markdown",
   "id": "30b829a7",
   "metadata": {},
   "source": [
    "**課題5:** 問1-4の微分方程式をsympyで実装し，手計算の結果と一致することを確認せよ．"
   ]
  },
  {
   "attachments": {},
   "cell_type": "markdown",
   "id": "6d46b24c",
   "metadata": {},
   "source": [
    "## 同次微分方程式 →[[Stream](https://web.microsoftstream.com/video/a91c3a3f-a473-4189-b282-483e072fd925)]\n",
    "同次微分方程式とは，微分方程式の関数 $f(x,y)$ が$f(\\frac{y}{x})$であるとき，つまり，以下のような形式の微分方程式のことを示す．\n",
    "\n",
    "$$\n",
    "\\begin{align}\n",
    "\\frac{dy}{dx} = f\\left(\\frac{y}{x}\\right)\n",
    "\\end{align}\n",
    "$$\n",
    "\n",
    "この一般解は以下で与えられる．\n",
    "\n",
    "$$\n",
    "\\begin{align}\n",
    "\\int \\frac{1}{f(u) -u}du= \\log | x | + C\n",
    "\\end{align}\n",
    "$$\n",
    "\n",
    "ただし，$C$は積分定数とする．"
   ]
  },
  {
   "attachments": {},
   "cell_type": "markdown",
   "id": "5e618254",
   "metadata": {},
   "source": [
    "### 一般解の導出\n",
    "同次微分方程式をを解くためには，$\\frac{y}{x}=u$として変数変換をすれば良い．この変数変換は\n",
    "\n",
    "$$\n",
    "\\begin{align}\n",
    "\\frac{y}{x}=u \\Rightarrow y = xu\n",
    "\\end{align}\n",
    "$$\n",
    "\n",
    "であり，これを$x$について微分すると，\n",
    "\n",
    "$$\n",
    "\\begin{align}\n",
    "\\frac{dy}{dx} = u + x\\frac{du}{dx}\n",
    "\\end{align}\n",
    "$$\n",
    "\n",
    "のようになる．ここで $u=y/x$ という $x$ の関数なので右辺は積の微分を利用する．そして，$u$について整理すると，\n",
    "\n",
    "$$\n",
    "\\begin{align}\n",
    "\\frac{du}{dx} = \\frac{1}{x} \\left(\\frac{dy}{dx} -u\\right)\n",
    "\\end{align}\n",
    "$$\n",
    "\n",
    "となり，$\\frac{dy}{du}=f\\left(\\frac{y}{x}\\right)=f(u)$であるので，次の形になる．\n",
    "\n",
    "$$\n",
    "\\begin{align}\n",
    "\\frac{du}{dx} = \\frac{1}{x} \\left(f(u) -u\\right)\n",
    "\\end{align}\n",
    "$$\n",
    "\n",
    "上記の式は $u$ と $x$ のみが含まれ，$u$ と $x$ について以下のように整理すると変数分離形となる．\n",
    "\n",
    "$$\n",
    "\\begin{align}\n",
    "\\frac{1}{f(u) -u}du= \\frac{1}{x} dx\n",
    "\\end{align}\n",
    "$$\n",
    "\n",
    "変数分離形の解法と同様に両辺を積分し，\n",
    "\n",
    "$$\n",
    "\\begin{align}\n",
    "\\int \\frac{1}{f(u) -u}du= \\int \\frac{1}{x} dx\n",
    "\\end{align}\n",
    "$$\n",
    "\n",
    "以下の一般解が得られる．\n",
    "\n",
    "$$\n",
    "\\begin{align}\n",
    "\\int \\frac{1}{f(u) -u}du= \\log | x | + C\n",
    "\\end{align}\n",
    "$$\n",
    "\n",
    "ただし，$C$は積分定数とする．"
   ]
  },
  {
   "attachments": {},
   "cell_type": "markdown",
   "id": "6d8f31a7",
   "metadata": {},
   "source": [
    "```{admonition} 積の微分法則\n",
    "積の微分法則とは $y=f(x)g(x)$ という関数の変数$x$ の微分は以下となる法則である．\n",
    "\n",
    "$$\n",
    "\\frac{dy}{dx} = f'(x)g(x) + f(x)g'(x)\n",
    "$$\n",
    "\n",
    "$u$ の変数変換では，$u$ は $x$ の関数であるので，$y'=u'x + ux'$ という微分になっていることに注意されたい．\n",
    "```"
   ]
  },
  {
   "attachments": {},
   "cell_type": "markdown",
   "id": "4a66ba52",
   "metadata": {},
   "source": [
    "### 同次微分方程式の具体例\n",
    "では，次の同次微分方程式を解いてみよう．\n",
    "\n",
    "$$\n",
    "\\frac{dy}{dx} = \\frac{x^2 + y^2}{xy}\n",
    "$$\n",
    "\n",
    "解答はクリックで確認できる．\n",
    "\n",
    "````{toggle}\n",
    "\n",
    "一見すると変数分離形とも同次形とも見て取れないが，ここで，右辺を $x^2$ で割ると以下のように $y/x$ の形が現れる．\n",
    "\n",
    "$$\n",
    "\\frac{dy}{dx} = \\frac{1 + \\left(\\frac{y}{x}\\right)^2}{\\left(\\frac{y}{x}\\right)}\n",
    "$$\n",
    "\n",
    "ここで $u=\\frac{y}{x}$ として変数変換をする．前述より，\n",
    "\n",
    "$$\n",
    "\\begin{align}\n",
    "u + x\\frac{du}{dx} &= \\frac{1 + u^2}{u}\n",
    "\\end{align}\n",
    "$$\n",
    "\n",
    "であり，変数変換をした $y$ の導関数を $\\frac{dy}{dx} = \\frac{1 + u^2}{u}$ を代入すると\n",
    "\n",
    "$$\n",
    "\\begin{align}\n",
    "\\frac{dy}{dx} &= u + x\\frac{du}{dx} \\\\\n",
    "u + x\\frac{du}{dx} &= \\frac{1 + u^2}{u} \\\\\n",
    "x\\frac{du}{dx} &= \\frac{1 + u^2}{u} - u \\\\\n",
    "x\\frac{du}{dx} &= \\frac{1}{u} \\\\\n",
    "u du &= \\frac{1}{x} dx\n",
    "\\end{align}\n",
    "$$\n",
    "\n",
    "と変数分離形となった．変数分離形の解法にしたがって両辺を積分する．\n",
    "\n",
    "$$\n",
    "\\begin{align}\n",
    "\\int u du &= \\int \\frac{1}{x} dx \\\\\n",
    "\\frac{u^2}{2} &= \\log |x| + D \\\\\n",
    "u^2 &= 2 \\log |x| + 2D \\\\\n",
    "\\end{align}\n",
    "$$\n",
    "\n",
    "最後に，$u=\\frac{y}{x}$ を代入し，$y$ について整理すると，\n",
    "\n",
    "$$\n",
    "\\begin{align}\n",
    "\\frac{y^2}{x^2} &= 2 \\log |x| + 2D \\\\\n",
    "y^2 &= 2 x^2 \\log |x| + 2D x^2 \\\\\n",
    "y &= \\pm x \\sqrt{2 \\log |x| + C}\n",
    "\\end{align}\n",
    "$$\n",
    "\n",
    "として，一般解が得られる．ここで，$D$は積分定数であり，$C=2D$とした．\n",
    "````"
   ]
  },
  {
   "attachments": {},
   "cell_type": "markdown",
   "id": "69bf4121",
   "metadata": {},
   "source": [
    "### Pythonによる実装\n",
    "では，これをsympyで解く．"
   ]
  },
  {
   "cell_type": "code",
   "execution_count": null,
   "id": "719d42ef",
   "metadata": {},
   "outputs": [],
   "source": [
    "# 変数，関数，導関数を定義．\n",
    "x = symbols('x')\n",
    "y = Function('y')(x)\n",
    "dy = Derivative(y, x)\n",
    "\n",
    "# 与えられた同次微分方程式を定義\n",
    "eq = Eq(dy, (x**2 + y**2) / (x*y))\n",
    "\n",
    "# 微分方程式を解く．\n",
    "y_ = dsolve(eq, y)"
   ]
  },
  {
   "attachments": {},
   "cell_type": "markdown",
   "id": "c5b40942",
   "metadata": {},
   "source": [
    "このとき手計算した一般解からもわかるように $y$ は二つの一般解を持つことに注意する．"
   ]
  },
  {
   "cell_type": "code",
   "execution_count": null,
   "id": "081e23a1",
   "metadata": {},
   "outputs": [],
   "source": [
    "y_[0]"
   ]
  },
  {
   "cell_type": "code",
   "execution_count": null,
   "id": "6f93eebe",
   "metadata": {},
   "outputs": [],
   "source": [
    "y_[1]"
   ]
  },
  {
   "cell_type": "code",
   "execution_count": null,
   "id": "870f5d6d",
   "metadata": {},
   "outputs": [],
   "source": [
    "import numpy as np\n",
    "from sympy import plotting\n",
    "import matplotlib.pyplot as plt\n",
    "\n",
    "N = 10\n",
    "\n",
    "eqs = []\n",
    "for c in np.linspace(-3, 3, N):\n",
    "    eqs.append(y_[0].rhs.subs(symbols('C1'), c))\n",
    "    eqs.append(y_[1].rhs.subs(symbols('C1'), c))\n",
    "p = plotting.plot(*eqs, (x, -2, 2), show=False)\n",
    "\n",
    "cm = plt.get_cmap('magma', N*2)\n",
    "for i in range(0, cm.N, 2):\n",
    "    p[i].line_color = cm(i)\n",
    "    p[i+1].line_color = cm(i)\n",
    "p.show()"
   ]
  },
  {
   "attachments": {},
   "cell_type": "markdown",
   "id": "133932d8",
   "metadata": {},
   "source": [
    "### 課題\n",
    "**課題1:** 次の微分方程式の一般解を求めよ．\n",
    "\n",
    "$$\n",
    "\\begin{align}\n",
    "x^2\\frac{dy}{dx} = y^2\n",
    "\\end{align}\n",
    "$$"
   ]
  },
  {
   "attachments": {},
   "cell_type": "markdown",
   "id": "b2be3187",
   "metadata": {},
   "source": [
    "**課題2:** 次の微分方程式の一般解を求めよ．\n",
    "\n",
    "$$\n",
    "\\begin{align}\n",
    "\\frac{dy}{dx} = \\frac{x+y}{x}\n",
    "\\end{align}\n",
    "$$"
   ]
  },
  {
   "attachments": {},
   "cell_type": "markdown",
   "id": "4bf75274",
   "metadata": {},
   "source": [
    "**課題3:** 次の微分方程式の一般解を求めよ．\n",
    "\n",
    "$$\n",
    "\\begin{align}\n",
    "\\frac{dy}{dx} = \\frac{x-y}{x+y}\n",
    "\\end{align}\n",
    "$$"
   ]
  },
  {
   "attachments": {},
   "cell_type": "markdown",
   "id": "730ed96a",
   "metadata": {},
   "source": [
    "**課題4:** 問1-3の微分方程式をsympyで実装し，手計算の結果と一致することを確認せよ．"
   ]
  },
  {
   "attachments": {},
   "cell_type": "markdown",
   "id": "17a2325a",
   "metadata": {},
   "source": [
    "## 次回の講義について\n",
    "次回は，常微分方程式の一種である線形微分方程式について解法を紹介する．"
   ]
  }
 ],
 "metadata": {
  "kernelspec": {
   "display_name": "ml",
   "language": "python",
   "name": "python3"
  },
  "language_info": {
   "codemirror_mode": {
    "name": "ipython",
    "version": 3
   },
   "file_extension": ".py",
   "mimetype": "text/x-python",
   "name": "python",
   "nbconvert_exporter": "python",
   "pygments_lexer": "ipython3",
   "version": "3.9.13"
  },
  "vscode": {
   "interpreter": {
    "hash": "c558876ffd71b3528bcdaaa45c5eeebe18905a0bd68c09a6b765c00e31df719e"
   }
  }
 },
 "nbformat": 4,
 "nbformat_minor": 5
}

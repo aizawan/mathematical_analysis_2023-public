{
 "cells": [
  {
   "attachments": {},
   "cell_type": "markdown",
   "id": "be0f83d0",
   "metadata": {},
   "source": [
    "# 第5回: 課題ファイル"
   ]
  },
  {
   "attachments": {},
   "cell_type": "markdown",
   "id": "2cc3486b",
   "metadata": {},
   "source": [
    "### 課題\n",
    "**課題1:** 次の微分方程式の一般解を求めよ．\n",
    "\n",
    "$$\n",
    "\\begin{align}\n",
    "\\frac{dy}{dx}+\\cos(x)y=0\n",
    "\\end{align}\n",
    "$$"
   ]
  },
  {
   "attachments": {},
   "cell_type": "markdown",
   "id": "3f1b16b2",
   "metadata": {},
   "source": [
    "**課題2:** 上記の微分方程式をsympyで実装し，一般解のグラフを描け．"
   ]
  },
  {
   "cell_type": "code",
   "execution_count": 9,
   "id": "01b7bca1",
   "metadata": {},
   "outputs": [
    {
     "data": {
      "text/latex": [
       "$\\displaystyle y{\\left(x \\right)} = C_{1} e^{- \\sin{\\left(x \\right)}}$"
      ],
      "text/plain": [
       "Eq(y(x), C1*exp(-sin(x)))"
      ]
     },
     "execution_count": 9,
     "metadata": {},
     "output_type": "execute_result"
    }
   ],
   "source": [
    "# 解答用セル"
   ]
  },
  {
   "attachments": {},
   "cell_type": "markdown",
   "id": "ae3363c3",
   "metadata": {},
   "source": [
    "### 課題\n",
    "**課題1:** 次の微分方程式の一般解を積分因子法で求めよ．\n",
    "\n",
    "$$\n",
    "\\begin{align}\n",
    "\\frac{dy}{dx}+\\frac{y}{x}=x\n",
    "\\end{align}\n",
    "$$"
   ]
  },
  {
   "attachments": {},
   "cell_type": "markdown",
   "id": "db9c6f09",
   "metadata": {},
   "source": [
    "### 課題\n",
    "**課題1:** 次の微分方程式の一般解を定数変化法で求めよ．\n",
    "\n",
    "$$\n",
    "\\begin{align}\n",
    "\\frac{dy}{dx}+\\frac{y}{x}=x\n",
    "\\end{align}\n",
    "$$"
   ]
  },
  {
   "attachments": {},
   "cell_type": "markdown",
   "id": "07297686",
   "metadata": {},
   "source": [
    "**課題2:** 上記の微分方程式をsympyで実装し，一般解のグラフを描け．"
   ]
  },
  {
   "cell_type": "code",
   "execution_count": 17,
   "id": "c7f327e8",
   "metadata": {},
   "outputs": [
    {
     "data": {
      "text/latex": [
       "$\\displaystyle y{\\left(x \\right)} = \\frac{C_{1} + \\frac{x^{3}}{3}}{x}$"
      ],
      "text/plain": [
       "Eq(y(x), (C1 + x**3/3)/x)"
      ]
     },
     "execution_count": 17,
     "metadata": {},
     "output_type": "execute_result"
    }
   ],
   "source": [
    "# 解答用セル"
   ]
  }
 ],
 "metadata": {
  "kernelspec": {
   "display_name": "Python 3 (ipykernel)",
   "language": "python",
   "name": "python3"
  },
  "language_info": {
   "codemirror_mode": {
    "name": "ipython",
    "version": 3
   },
   "file_extension": ".py",
   "mimetype": "text/x-python",
   "name": "python",
   "nbconvert_exporter": "python",
   "pygments_lexer": "ipython3",
   "version": "3.9.7"
  }
 },
 "nbformat": 4,
 "nbformat_minor": 5
}

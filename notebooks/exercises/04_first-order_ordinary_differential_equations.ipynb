{
 "cells": [
  {
   "attachments": {},
   "cell_type": "markdown",
   "id": "be0f83d0",
   "metadata": {},
   "source": [
    "# 第4回: 課題ファイル"
   ]
  },
  {
   "attachments": {},
   "cell_type": "markdown",
   "id": "44290c06",
   "metadata": {},
   "source": [
    "### 課題\n",
    "**課題1:** 次の微分方程式の一般解を求めよ．\n",
    "\n",
    "$$\n",
    "\\begin{align}\n",
    "\\frac{dy}{dx} + y = 1\n",
    "\\end{align}\n",
    "$$"
   ]
  },
  {
   "attachments": {},
   "cell_type": "markdown",
   "id": "452679a3",
   "metadata": {},
   "source": [
    "**課題2:** 次の微分方程式の一般解を求めよ．\n",
    "\n",
    "$$\n",
    "\\begin{align}\n",
    "\\frac{dy}{dx} = xy\n",
    "\\end{align}\n",
    "$$"
   ]
  },
  {
   "attachments": {},
   "cell_type": "markdown",
   "id": "a3f9044c",
   "metadata": {},
   "source": [
    "**課題3:** 次の微分方程式の一般解を求めよ．\n",
    "\n",
    "$$\n",
    "\\begin{align}\n",
    "\\frac{dy}{dx} = y^2 + 1\n",
    "\\end{align}\n",
    "$$"
   ]
  },
  {
   "attachments": {},
   "cell_type": "markdown",
   "id": "99c5fbb7",
   "metadata": {},
   "source": [
    "**課題4:** 次の微分方程式の一般解を求めよ．\n",
    "\n",
    "$$\n",
    "\\begin{align}\n",
    "\\left( x + 1\\right) \\frac{dy}{dx} = y\n",
    "\\end{align}\n",
    "$$"
   ]
  },
  {
   "attachments": {},
   "cell_type": "markdown",
   "id": "30b829a7",
   "metadata": {},
   "source": [
    "**課題5:** 問1-4の微分方程式をsympyで実装し，手計算の結果と一致することを確認せよ．"
   ]
  },
  {
   "cell_type": "code",
   "execution_count": null,
   "id": "13618877",
   "metadata": {},
   "outputs": [],
   "source": [
    "# 解答用セル"
   ]
  },
  {
   "attachments": {},
   "cell_type": "markdown",
   "id": "133932d8",
   "metadata": {},
   "source": [
    "### 課題\n",
    "**課題1:** 次の微分方程式の一般解を求めよ．\n",
    "\n",
    "$$\n",
    "\\begin{align}\n",
    "x^2\\frac{dy}{dx} = y^2\n",
    "\\end{align}\n",
    "$$"
   ]
  },
  {
   "attachments": {},
   "cell_type": "markdown",
   "id": "b2be3187",
   "metadata": {},
   "source": [
    "**課題2:** 次の微分方程式の一般解を求めよ．\n",
    "\n",
    "$$\n",
    "\\begin{align}\n",
    "\\frac{dy}{dx} = \\frac{x+y}{x}\n",
    "\\end{align}\n",
    "$$"
   ]
  },
  {
   "attachments": {},
   "cell_type": "markdown",
   "id": "4bf75274",
   "metadata": {},
   "source": [
    "**課題3:** 次の微分方程式の一般解を求めよ．\n",
    "\n",
    "$$\n",
    "\\begin{align}\n",
    "\\frac{dy}{dx} = \\frac{x-y}{x+y}\n",
    "\\end{align}\n",
    "$$"
   ]
  },
  {
   "attachments": {},
   "cell_type": "markdown",
   "id": "730ed96a",
   "metadata": {},
   "source": [
    "**課題4:** 問1-3の微分方程式をsympyで実装し，手計算の結果と一致することを確認せよ．"
   ]
  },
  {
   "cell_type": "code",
   "execution_count": null,
   "id": "21545059",
   "metadata": {},
   "outputs": [],
   "source": [
    "# 解答用セル"
   ]
  }
 ],
 "metadata": {
  "kernelspec": {
   "display_name": "ml",
   "language": "python",
   "name": "python3"
  },
  "language_info": {
   "codemirror_mode": {
    "name": "ipython",
    "version": 3
   },
   "file_extension": ".py",
   "mimetype": "text/x-python",
   "name": "python",
   "nbconvert_exporter": "python",
   "pygments_lexer": "ipython3",
   "version": "3.9.7"
  },
  "vscode": {
   "interpreter": {
    "hash": "c558876ffd71b3528bcdaaa45c5eeebe18905a0bd68c09a6b765c00e31df719e"
   }
  }
 },
 "nbformat": 4,
 "nbformat_minor": 5
}

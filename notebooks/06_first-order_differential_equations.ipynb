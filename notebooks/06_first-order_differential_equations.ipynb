{
 "cells": [
  {
   "attachments": {},
   "cell_type": "markdown",
   "id": "be0f83d0",
   "metadata": {},
   "source": [
    "# 第6回: 一階微分方程式"
   ]
  },
  {
   "attachments": {},
   "cell_type": "markdown",
   "id": "43cb86f4",
   "metadata": {},
   "source": [
    "## 概要\n",
    "第6回の講義では一階の導関数を含む非線形微分方程式について紹介する．しかしながら，有限回の積分計算で解ける形の微分方程式は限られており，ここでは，導出可能な特殊な形を持つベルヌーイ型微分方程式，クレロー型微分方程式，完全微分方程式を紹介する．具体的には以下を学ぶ．\n",
    "\n",
    "- ベルヌーイ型微分方程式，クレロー型微分方程式，完全微分方程式の形式の区別とその解法を学ぶ"
   ]
  },
  {
   "attachments": {},
   "cell_type": "markdown",
   "id": "b53fbe93",
   "metadata": {},
   "source": [
    "## ベルヌーイ型微分方程式\n",
    "**ベルヌーイ型微分方程式** は，次の形式で表される微分方程式である．\n",
    "\n",
    "$$\n",
    "\\frac{dy}{dx} + p(x)y = q(x)y^n\n",
    "$$\n",
    "\n",
    "ここで、$p(x)$ と $q(x)$ は $x$ の関数であり，$n$は定数である．見てわかるように，$y^n$の項が含まれており，一階非線形微分方程式である．"
   ]
  },
  {
   "attachments": {},
   "cell_type": "markdown",
   "id": "2088c879",
   "metadata": {},
   "source": [
    "### ベルヌーイ型微分方程式の解法\n",
    "ベルヌーイ型微分方程式と名前が付いているように，この微分方程式は一階非線形微分方程式の中でも特殊な形式であり，変数変換を行うことで一階線形微分方程式として解を求めることができる．\n",
    "\n",
    "#### $n=0$ の場合\n",
    "まずは$n=0$のときのベルヌーイ型微分方程式を考えよう．代入すると，\n",
    "\n",
    "$$\n",
    "\\frac{dy}{dx} + p(x)y = q(x)\n",
    "$$\n",
    "\n",
    "という形式となり，これは一階線形非同次微分方程式である．これは前回学んだ積分因子形等の方法で解くことができる．\n",
    "\n",
    "#### $n=1$ の場合\n",
    "続いて，$n=1$のときを考える．代入すると，\n",
    "\n",
    "$$\n",
    "\\begin{aligned}\n",
    "\\frac{dy}{dx} + p(x)y &= q(x)y \\\\\n",
    "\\frac{dy}{dx} + \\left(p(x) - q(x) \\right)y &= 0\n",
    "\\end{aligned}\n",
    "$$\n",
    "\n",
    "となり，$p(x),q(x)$ はともに変数 $x$ に関する項なので $y$ でまとめることができ，結果的にこちらも単純な一階線形同次微分方程式となる．このような微分方程式は直接積分法や変数分離法などで解くことができた．\n",
    "\n",
    "#### $n\\neq0,1$ の場合\n",
    "本講義で扱いたいのは上記のような形式ではなく，$n\\neq0,1$のときのベルヌーイ型微分方程式である．前述したように適切に変数変換を行うと線形微分方程式に変換できる．\n",
    "\n",
    "ここで変数 $z$ を導入する．\n",
    "\n",
    "$$\n",
    "z = y^{-(n-1)}=\\frac{1}{y^{n-1}}\n",
    "$$\n",
    "\n",
    "ここで $y,z$ は変数$x$に関する関数なので$x$について微分すると，\n",
    "\n",
    "$$\n",
    "\\begin{aligned}\n",
    "\\frac{dz}{dx} &= \\frac{d}{dx}y^{1-n} \\\\\n",
    "&= \\left(1-n \\right)y^{-n} \\frac{dy}{dx}\n",
    "\\end{aligned}\n",
    "$$\n",
    "\n",
    "となる．これを使って元の微分方程式を変数変換の関数 $z$ と $\\frac{dz}{dx}$ で書き換える．そのために両辺を $y^n$ で割り，変数変換の結果を代入すると\n",
    "\n",
    "$$\n",
    "\\begin{aligned}\n",
    "\\frac{dy}{dx} + p(x)y &= q(x)y^n \\\\\n",
    "\\frac{1}{y^n}\\frac{dy}{dx} + p(x) \\frac{1}{y^{n-1}} &= q(x) \\\\\n",
    "\\frac{1-n}{1-n}y^{-n}\\frac{dy}{dx} + p(x) \\frac{1}{y^{n-1}} &= q(x) \\\\\n",
    "\\frac{1}{1-n}\\frac{dz}{dx} + p(x) z &= p(x) \\\\\n",
    "\\frac{dz}{dx} + (1-n) p(x) z &= (1-n) p(x) \\\\\n",
    "\\end{aligned}\n",
    "$$\n",
    "\n",
    "とシンプルな形式に書き換えることができる．これは見てわかるように，関数 $z$ に関する線形微分方程式であり，一般解は積分因子法や定数変化法で導出できる．一般解は以下となる．\n",
    "\n",
    "$$\n",
    "\\begin{align}\n",
    "y &= e^{-\\left( 1-n \\right)\\int p(x) dx} \\left \\{ \\left( 1-n \\right) \\int q(x)e^{\\left( 1-n \\right)\\int p(x) dx} dx + C \\right \\} \n",
    "\\end{align}\n",
    "$$"
   ]
  },
  {
   "attachments": {},
   "cell_type": "markdown",
   "id": "e317545e",
   "metadata": {},
   "source": [
    "### ベルヌーイ型微分方程式の具体例\n",
    "では，次の微分方程式を解いてみよう．\n",
    "\n",
    "$$\n",
    "\\frac{dy}{dx} - y = - xy^2\n",
    "$$\n",
    "\n",
    "解答はクリックで確認できる．\n",
    "\n",
    "````{toggle}\n",
    "\n",
    "これは $n=2$ のベルヌーイ型であるので，$z=y^{-1}$ として変数変換する．\n",
    "\n",
    "$$\n",
    "\\begin{aligned}\n",
    "\\frac{dz}{dx} &= \\frac{d}{dx}y^{-1} \\\\\n",
    "&= - y^{-2} \\frac{dy}{dx}\n",
    "\\end{aligned}\n",
    "$$\n",
    "\n",
    "これを使って元の微分方程式を変数変換の関数 $z$ と $\\frac{dz}{dx}$ で書き換える．そのために両辺を$y^n$で割り，変数変換の結果を代入すると\n",
    "\n",
    "$$\n",
    "\\begin{aligned}\n",
    "\\frac{dy}{dx} - y &= -xy^2 \\\\\n",
    "\\frac{1}{y^2}\\frac{dy}{dx} - \\frac{y}{y^{2}} &= -x \\\\\n",
    "-\\frac{dz}{dx} - \\frac{1}{y} &= -x \\\\\n",
    "\\frac{dz}{dx} + z &= x \\\\\n",
    "\\end{aligned}\n",
    "$$\n",
    "\n",
    "となる．これは $p(x)=1,q(x)=x$ の非同次微分方程式であるので，$z=\\frac{1}{y}$に注意して一般解を導出すると，\n",
    "\n",
    "$$\n",
    "\\begin{align}\n",
    "z &= Ce^{-x} + x - 1 \\\\\n",
    "\\frac{1}{y} &= Ce^{-x} + x - 1 \\\\\n",
    "y &= \\frac{1}{Ce^{-x} + x - 1}\n",
    "\\end{align}\n",
    "$$\n",
    "\n",
    "となる．\n",
    "````"
   ]
  },
  {
   "attachments": {},
   "cell_type": "markdown",
   "id": "6f23a474",
   "metadata": {},
   "source": [
    "### Pythonによる実装\n",
    "では，上記の微分方程式をsympyで解く．"
   ]
  },
  {
   "cell_type": "code",
   "execution_count": null,
   "id": "338cc42a",
   "metadata": {},
   "outputs": [],
   "source": [
    "from sympy import symbols, Eq, Derivative, Function, dsolve\n",
    "\n",
    "# 変数と未知関数の定義\n",
    "x = symbols('x')\n",
    "y = Function('y')(x)\n",
    "\n",
    "# dy/dxの定義\n",
    "dy = Derivative(y, x)\n",
    "\n",
    "# 微分方程式の定義\n",
    "eq = Eq(dy - y, -x*y**2)\n",
    "\n",
    "# 微分方程式を解く\n",
    "y_ = dsolve(eq, y)\n",
    "y_"
   ]
  },
  {
   "cell_type": "code",
   "execution_count": null,
   "id": "9918319e",
   "metadata": {},
   "outputs": [],
   "source": [
    "import numpy as np\n",
    "from sympy import plotting\n",
    "import matplotlib.pyplot as plt\n",
    "\n",
    "N = 10\n",
    "\n",
    "eqs = []\n",
    "for c in np.linspace(-5, 5, N):\n",
    "    eqs.append(y_.rhs.subs(symbols('C1'), c))\n",
    "p = plotting.plot(*eqs, (x, 0, 5), ylim=(0, 20), show=False)\n",
    "\n",
    "cm = plt.get_cmap('magma', N)\n",
    "for i in range(cm.N):\n",
    "    p[i].line_color = cm(i)\n",
    "p.show()"
   ]
  },
  {
   "attachments": {},
   "cell_type": "markdown",
   "id": "5aea8ce4",
   "metadata": {},
   "source": [
    "グラフのプロットは $e^{-x}$ を含むためある値で漸近していることに注意されたい．"
   ]
  },
  {
   "attachments": {},
   "cell_type": "markdown",
   "id": "a34fdf3e",
   "metadata": {},
   "source": [
    "### 課題\n",
    "**課題1:** 次の微分方程式の一般解を求めよ．\n",
    "\n",
    "$$\n",
    "\\frac{dy}{dx} + \\frac{y}{x} = xy^2\n",
    "$$"
   ]
  },
  {
   "attachments": {},
   "cell_type": "markdown",
   "id": "51c7d6d0",
   "metadata": {},
   "source": [
    "**課題2:** 次の微分方程式の一般解を求めよ．\n",
    "\n",
    "$$\n",
    "x\\frac{dy}{dx} -y = y^3\n",
    "$$"
   ]
  },
  {
   "attachments": {},
   "cell_type": "markdown",
   "id": "27805464",
   "metadata": {},
   "source": [
    "## クレロー型微分方程式\n",
    "**クレロー型微分方程式（Clairaut's equation）** は以下の形式を持つ微分方程式である\n",
    "\n",
    "$$\n",
    "y=\\frac{dy}{dx}x + f \\left( \\frac{dy}{dx}\\right)\n",
    "$$\n",
    "\n",
    "ここで関数 $f$ は$\\frac{dy}{dx}$ の関数である．"
   ]
  },
  {
   "attachments": {},
   "cell_type": "markdown",
   "id": "3fa0d57d",
   "metadata": {},
   "source": [
    "### クレロー型微分方程式の解法\n",
    "クレロー型微分方程式の解は関数 $f$ の形に依存するが，導関数 $\\frac{dy}{dx}$ について解くまでの一般解の導出を行う\n",
    "\n",
    "まず導関数 $\\frac{dy}{dx}$ を別の関数 $p$ に置き換える．式は\n",
    "\n",
    "$$\n",
    "y=px + f \\left(p\\right)\n",
    "$$\n",
    "\n",
    "となる．続いて，上式を$x$で微分する．$y,p$ ともに$x$の関数であることに注意すると\n",
    "\n",
    "$$\n",
    "\\begin{aligned}\n",
    "\\frac{dy}{dx}&=p+x\\frac{dp}{dx} + f'(p) \\frac{dp}{dx} \\\\\n",
    "p&=p+ \\frac{dp}{dx} \\left ( x + f'(p)\\right ) \\\\\n",
    "0 &= \\frac{dp}{dx} \\left ( x + f'(p)\\right )\n",
    "\\end{aligned}\n",
    "$$\n",
    "\n",
    "となる．第三式が成り立つためには，\n",
    "\n",
    "$$\n",
    "\\frac{dp}{dx} = \\frac{d^2y}{dx^2} = 0\n",
    "$$\n",
    "\n",
    "もしくは\n",
    "\n",
    "$$\n",
    "x+f'(p)=0\n",
    "$$\n",
    "\n",
    "である必要がある．前者の条件は2階微分すると0ということは導関数は定数，つまり\n",
    "\n",
    "$$\n",
    "\\frac{dy}{dx} = p = C\n",
    "$$\n",
    "\n",
    "であるため，一般解は\n",
    "\n",
    "$$\n",
    "y=Cx+f(C)\n",
    "$$\n",
    "\n",
    "となる．一方，後者の条件については，以下の方程式より，$p$を消去することで $C$ を含まない特殊解を導出できる．\n",
    "\n",
    "$$\n",
    "\\begin{aligned}\n",
    "&\\left\\{\\begin{array}{l} x = -f'(p) \\\\ y = px+f(p) \\end{array}\\right.\\\\\n",
    "\\end{aligned}\n",
    "$$\n",
    "\n",
    "ただし，関数 $f$ の形に応じては解を求めることができないので注意されたい．"
   ]
  },
  {
   "attachments": {},
   "cell_type": "markdown",
   "id": "f2c1c8c7",
   "metadata": {},
   "source": [
    "### クレロー型微分方程式の具体例\n",
    "次の微分方程式を解いてみよう．\n",
    "\n",
    "$$\n",
    "y=\\frac{dy}{dx}x + \\left( \\frac{dy}{dx}\\right)^2\n",
    "$$\n",
    "\n",
    "解答はクリックで確認できる．\n",
    "\n",
    "````{toggle}\n",
    "\n",
    "この微分方程式は，クレロー型の微分方程式であるので $p=\\frac{dy}{dx}$として式を変形すると，\n",
    "\n",
    "$$\n",
    "y=px + p^2\n",
    "$$\n",
    "\n",
    "このとき，$y$ と $p$ が $x$ の関数であることに注意して両辺を $x$ を微分する．\n",
    "\n",
    "$$\n",
    "\\begin{aligned}\n",
    "\\frac{dy}{dx}&=p+x\\frac{dp}{dx} + 2p \\frac{dp}{dx} \\\\\n",
    "p&=p+ \\frac{dp}{dx} \\left ( x + 2p\\right ) \\\\\n",
    "0 &= \\frac{dp}{dx} \\left ( x + 2p\\right )\n",
    "\\end{aligned}\n",
    "$$\n",
    "\n",
    "この等式が成立するためには，\n",
    "\n",
    "$$\n",
    "\\frac{dp}{dx} = \\frac{d^2y}{dx^2} = 0\n",
    "$$\n",
    "\n",
    "もしくは\n",
    "\n",
    "$$\n",
    "x+2p=0\n",
    "$$\n",
    "\n",
    "である必要がある．前者の条件は2階微分すると0ということは導関数は定数，つまり\n",
    "\n",
    "$$\n",
    "\\frac{dy}{dx} = p = C\n",
    "$$\n",
    "\n",
    "であるため，一般解は\n",
    "\n",
    "$$\n",
    "y=Cx+C^2\n",
    "$$\n",
    "\n",
    "となる．後者の条件は，$p=-x/2$より，式に代入すると，\n",
    "\n",
    "$$\n",
    "\\begin{aligned}\n",
    "y &= \\left ( -\\frac{x}{2} \\right ) x + \\left ( -\\frac{x}{2} \\right )^2 \\\\\n",
    "&= - \\frac{1}{4} x^2\n",
    "\\end{aligned}\n",
    "$$\n",
    "\n",
    "という特異解が得られる．\n",
    "\n",
    "```{admonition} 特異解\n",
    "**特異解** とは一般解の任意定数 $C$ にどのような値を取っても得られない解のことを言う．特殊解は一般解の任意定数を初期条件で固定した解であり，混同しないように注意されたい．\n",
    "```\n",
    "\n",
    "そして，この特異解は得られた曲線に全てに接している曲線である **包絡線** となっている．\n",
    "\n",
    "```{admonition} 包絡線\n",
    "**包絡線（envelope）** とは $\\alpha$ をパラメータとする微分可能な関数 $F(x,y,\\alpha)$ が与えられたとき，この関数に接して、かつ接線が軌跡となっている曲線である．ほうらくせんと読む．\n",
    "```\n",
    "````"
   ]
  },
  {
   "attachments": {},
   "cell_type": "markdown",
   "id": "05aaea9e",
   "metadata": {},
   "source": [
    "### Pythonによる実装\n",
    "では，上記の微分方程式をsympyで解く．ただし，クレロー型であっても微分方程式の形によってはsympyでは計算できない場合があることに注意されたい．"
   ]
  },
  {
   "cell_type": "code",
   "execution_count": null,
   "id": "ac341d5f",
   "metadata": {},
   "outputs": [],
   "source": [
    "from sympy import symbols, Eq, Derivative, Function, dsolve\n",
    "\n",
    "# 変数と未知関数の定義\n",
    "x = symbols('x')\n",
    "y = Function('y')(x)\n",
    "\n",
    "# dy/dxの定義\n",
    "dy = Derivative(y, x)\n",
    "\n",
    "# 微分方程式の定義\n",
    "eq = Eq(y, dy*x + dy**2)\n",
    "\n",
    "# 微分方程式を解く\n",
    "y_ = dsolve(eq, y)\n",
    "y_"
   ]
  },
  {
   "cell_type": "code",
   "execution_count": null,
   "id": "1ec3f605",
   "metadata": {},
   "outputs": [],
   "source": [
    "import numpy as np\n",
    "from sympy import plotting\n",
    "import matplotlib.pyplot as plt\n",
    "\n",
    "N = 10\n",
    "\n",
    "eqs = []\n",
    "for c in np.linspace(-1, 1, N):\n",
    "    eqs.append(y_.rhs.subs(symbols('C1'), c))\n",
    "p = plotting.plot(*eqs, (x, -5, 5), show=False)\n",
    "\n",
    "cm = plt.get_cmap('magma', N)\n",
    "for i in range(cm.N):\n",
    "    p[i].line_color = cm(i)\n",
    "p.show()"
   ]
  },
  {
   "attachments": {},
   "cell_type": "markdown",
   "id": "210bd523",
   "metadata": {},
   "source": [
    "### 課題\n",
    "**課題1:** 次の微分方程式の一般解を求めよ．\n",
    "\n",
    "$$\n",
    "y=\\frac{dy}{dx}x + \\left( \\frac{dy}{dx}\\right)^2 + 1\n",
    "$$"
   ]
  },
  {
   "attachments": {},
   "cell_type": "markdown",
   "id": "1589dcf1",
   "metadata": {},
   "source": [
    "**課題2:** 上記の微分方程式をsympyで実装し，一般解のグラフを描け．"
   ]
  },
  {
   "attachments": {},
   "cell_type": "markdown",
   "id": "a11a12d9",
   "metadata": {},
   "source": [
    "## 完全微分方程式\n",
    "**全微分** とは多変数関数の各変数の微小変化を表現したものである．2変数関数 $f(x,y)$ の全微分 $df$ は偏微分を用いて\n",
    "\n",
    "$$\n",
    "df = \\frac{\\partial f}{\\partial x} dx + \\frac{\\partial f}{\\partial y} dy\n",
    "$$\n",
    "\n",
    "と書けることを思い出してほしい．ここで，全微分の形式の形の微分方程式，\n",
    "\n",
    "$$\n",
    "p(x,y)dx+q(x,y)dy = 0\n",
    "$$\n",
    "\n",
    "を **全微分方程式** という．ここで，$p(x,y),q(x,y)$は$x,y$の関数である．そして，全微分方程式の中でも$p(x,y),q(x,y)$が，\n",
    "\n",
    "$$\n",
    "\\frac{\\partial f}{\\partial x} = p(x,y), \\frac{\\partial f}{\\partial y} = q(x,y)\n",
    "$$\n",
    "\n",
    "となるとき，つまり，ある関数 $f(x,y)$ の$x,y$のそれぞれの偏導関数となっているとき，以下の微分方程式\n",
    "\n",
    "$$\n",
    "p(x,y)dx + q(x,y)dy = 0\n",
    "$$\n",
    "\n",
    "は **完全微分方程式** と呼ばれる．"
   ]
  },
  {
   "attachments": {},
   "cell_type": "markdown",
   "id": "f128e44c",
   "metadata": {},
   "source": [
    "### 完全微分方程式の解法\n",
    "完全微分方程式の一般解の導出は関数 $f(x,y)$ を求めることである．このとき，上記の関数 $f(x,y)$ の全微分式の定義より，\n",
    "\n",
    "$$\n",
    "df = p(x,y)dx + q(x,y)dy = 0\n",
    "$$\n",
    "\n",
    "であり，未知関数 $f(x,y)$ は微分したら 0 となるので定数であることがわかる．つまり一般解は，\n",
    "\n",
    "$$\n",
    "f(x,y)=C\n",
    "$$\n",
    "\n",
    "となる．ただし，$C$は定数とする．\n",
    "\n",
    "では，微分方程式 $p(x,y)dx + q(x,y)dy = 0$ を与えられ，未知関数 $f(x,y)$ をどのように求めればいいかを以降で説明する．\n",
    "\n",
    "まず与えられた微分方程式が完全形であることを確認する．完全微分方程式であるための必要十分条件は\n",
    "\n",
    "$$\n",
    "\\frac{\\partial p(x,y)}{\\partial y} = \\frac{\\partial q(x,y)}{\\partial x} \n",
    "$$\n",
    "\n",
    "である．続いて，$p(x,y)$を$x$について積分すると\n",
    "\n",
    "$$\n",
    "f(x,y) = \\int p(x,y) dx + \\phi(y) = C\n",
    "$$\n",
    "\n",
    "未知関数 $f(x,y)$ の一般解を求めることができるが，$y$を含むので$y$に関する未知の項 $\\phi(y)$ が生ずる．ただし，この項は上記の$f(x,y)$を$y$について偏微分すると\n",
    "\n",
    "$$\n",
    "\\frac{\\partial f(x,y)}{\\partial y} = \\frac{\\partial}{\\partial y} \\left\\{ \\int p(x,y) dx \\right \\} + \\frac{d}{dy}\\phi(y) = q(x,y)\n",
    "$$\n",
    "\n",
    "となり，$\\phi(y)$ の微分を元の$p(x,y),q(x,y)$の項から関数$f(x,y)$求めることができる．同一の手順で $x$ に関する偏微分を考えても良い．このようにして，偏微分を含む微分方程式であるが解くことができる．"
   ]
  },
  {
   "attachments": {},
   "cell_type": "markdown",
   "id": "e00ef97a",
   "metadata": {},
   "source": [
    "### 完全微分方程式の具体例\n",
    "次の微分方程式を解いてみよう．\n",
    "\n",
    "$$\n",
    "\\left ( 2x + 3y \\right )dx + \\left ( 3x + 8y \\right )dy = 0\n",
    "$$\n",
    "\n",
    "解答はクリックで確認できる．\n",
    "\n",
    "````{toggle}\n",
    "\n",
    "まずは与えられた微分方程式が完全微分方程式であるかを確かめる．$p(x,y)=2x+3y, q(x,y)=3x+8y$ として$y$と$x$に関する偏微分をそれぞれ求めると，\n",
    "\n",
    "$$\n",
    "\\begin{aligned}\n",
    "\\frac{\\partial p(x,y)}{\\partial y} = 3, \\quad \\frac{\\partial q(x,y)}{\\partial x} = 3\n",
    "\\end{aligned}\n",
    "$$\n",
    "\n",
    "となり，$\\frac{\\partial p(x,y)}{\\partial y} =  \\frac{\\partial q(x,y)}{\\partial x}$ であるため完全微分方程式である．\n",
    "\n",
    "$p(x,y)$ を $x$ について積分すると，\n",
    "\n",
    "$$\n",
    "\\begin{aligned}\n",
    "f(x,y) &= \\int p(x,y) dx + \\phi(y) \\\\\n",
    "&= \\int \\left( 2x + 3y \\right) dx + \\phi(y) \\\\\n",
    "&= x^2 + 3xy + \\phi(y)\n",
    "\\end{aligned}\n",
    "$$\n",
    "\n",
    "となる．続いて，上記の $f(x,y)$ を $y$ について偏微分すると，\n",
    "\n",
    "$$\n",
    "\\begin{aligned}\n",
    "\\frac{\\partial f(x,y)}{\\partial y} &= \\frac{\\partial}{\\partial y} \\left( x^2 + 3xy + \\phi(y) \\right ) \\\\\n",
    "&= 3x + \\frac{d}{dy}\\phi(y) = q(x,y)\n",
    "\\end{aligned}\n",
    "$$\n",
    "\n",
    "したがって，$\\frac{d}{dy}\\phi(y)=8y$ とわかる．これを $y$ について積分すると，\n",
    "\n",
    "$$\n",
    "\\begin{aligned}\n",
    "\\int \\frac{d}{dy}\\phi(y) &= \\int 8y dy \\\\\n",
    "\\phi(y) &= 4y^2\n",
    "\\end{aligned}\n",
    "$$\n",
    "\n",
    "したがって，任意定数 $C$ を用いて $f(x,y)=C$ を考慮し，以下の一般解が得られる．\n",
    "\n",
    "$$\n",
    "\\begin{aligned}\n",
    "f(x,y) = x^2 + 3xy + 4y^2 = C\n",
    "\\end{aligned}\n",
    "$$\n",
    "\n",
    "````"
   ]
  },
  {
   "attachments": {},
   "cell_type": "markdown",
   "id": "247d89d2",
   "metadata": {},
   "source": [
    "### Pythonによる実装\n",
    "では，sympyを使って完全微分方程式を解く．ただし，このような微分方程式の形式はこれまでの微分方程式のように解くことができないため，上記の解法のステップを順番に追っていく．\n",
    "まずはライブラリのインポートと変数と$p(x,y),q(x,y)$を定義する．"
   ]
  },
  {
   "cell_type": "code",
   "execution_count": null,
   "id": "2220ecd2",
   "metadata": {},
   "outputs": [],
   "source": [
    "from sympy import symbols, dsolve, integrate, diff\n",
    "\n",
    "# 変数の定義\n",
    "x = symbols('x')\n",
    "y = symbols('y')\n",
    "\n",
    "# p(x,y) , q(x,y)の定義\n",
    "p = 2*x + 3*y\n",
    "q = 3*x + 8*y"
   ]
  },
  {
   "attachments": {},
   "cell_type": "markdown",
   "id": "09b1a69e",
   "metadata": {},
   "source": [
    "完全微分方程式であるための条件を確認する．これまでは `Derivative`関数を使って導関数を定義していたが，今回は`diff`関数で導関数を計算する．`diff`は第一引数に微分する式を，第二引数に微分する変数を与える．"
   ]
  },
  {
   "cell_type": "code",
   "execution_count": null,
   "id": "f28671a2",
   "metadata": {},
   "outputs": [],
   "source": [
    "diff(p, y)"
   ]
  },
  {
   "cell_type": "code",
   "execution_count": null,
   "id": "3003d62c",
   "metadata": {},
   "outputs": [],
   "source": [
    "diff(q, x)"
   ]
  },
  {
   "attachments": {},
   "cell_type": "markdown",
   "id": "538a646a",
   "metadata": {},
   "source": [
    "となり，完全形であることがわかった．続いて，$p(x,y)$ を $x$ で積分してみる．積分は`integrate`関数で実行できた．"
   ]
  },
  {
   "cell_type": "code",
   "execution_count": null,
   "id": "6b5b1f96",
   "metadata": {},
   "outputs": [],
   "source": [
    "F_x = integrate(p, x)\n",
    "F_x"
   ]
  },
  {
   "attachments": {},
   "cell_type": "markdown",
   "id": "9b151a22",
   "metadata": {},
   "source": [
    "$\\phi(y)$ については，\n",
    "\n",
    "$$\n",
    "\\begin{aligned}\n",
    "\\frac{d}{dy}\\phi(y) = q(x,y) - \\frac{\\partial f(x,y)}{\\partial y}\n",
    "\\end{aligned}\n",
    "$$\n",
    "\n",
    "であるので，以下を計算する．\n"
   ]
  },
  {
   "cell_type": "code",
   "execution_count": null,
   "id": "d7555aed",
   "metadata": {},
   "outputs": [],
   "source": [
    "d_phi = q - diff(F_x, y)\n",
    "d_phi"
   ]
  },
  {
   "attachments": {},
   "cell_type": "markdown",
   "id": "d9668400",
   "metadata": {},
   "source": [
    "これを $y$ について積分する．"
   ]
  },
  {
   "cell_type": "code",
   "execution_count": null,
   "id": "988e77cd",
   "metadata": {},
   "outputs": [],
   "source": [
    "phi = integrate(d_phi, y)\n",
    "phi"
   ]
  },
  {
   "attachments": {},
   "cell_type": "markdown",
   "id": "20dbba51",
   "metadata": {},
   "source": [
    "従って，未知関数 $f(x,y)$ は以下となる．"
   ]
  },
  {
   "cell_type": "code",
   "execution_count": null,
   "id": "72ebeac3",
   "metadata": {},
   "outputs": [],
   "source": [
    "F = F_x + phi\n",
    "F"
   ]
  },
  {
   "attachments": {},
   "cell_type": "markdown",
   "id": "0b60a2dc",
   "metadata": {},
   "source": [
    "となり，一般解を導出できた．$C=0$としてプロットしてみると以下のようになる．多変数関数なので `plot3d` を利用する．"
   ]
  },
  {
   "cell_type": "code",
   "execution_count": null,
   "id": "d30ca21e",
   "metadata": {},
   "outputs": [],
   "source": [
    "from sympy.plotting import plot3d\n",
    "plot3d(F, (x, -5, 5), (y, -5, 5))"
   ]
  },
  {
   "attachments": {},
   "cell_type": "markdown",
   "id": "84f74e0b",
   "metadata": {},
   "source": [
    "### 課題\n",
    "**課題1:** 次の微分方程式が完全微分方程式であることを確かめよ．\n",
    "\n",
    "$$\n",
    "3x \\left ( 2y - x \\right )dx + \\left ( 3x^2 + 2y \\right )dy = 0\n",
    "$$"
   ]
  },
  {
   "attachments": {},
   "cell_type": "markdown",
   "id": "3f7a7ed3",
   "metadata": {},
   "source": [
    "**課題2:** 上記の微分方程式を解け．"
   ]
  },
  {
   "attachments": {},
   "cell_type": "markdown",
   "id": "17a2325a",
   "metadata": {},
   "source": [
    "## 次回の講義について\n",
    "次回の講義では2階の導関数を含む微分方程式を扱う．"
   ]
  }
 ],
 "metadata": {
  "kernelspec": {
   "display_name": "Python 3 (ipykernel)",
   "language": "python",
   "name": "python3"
  },
  "language_info": {
   "codemirror_mode": {
    "name": "ipython",
    "version": 3
   },
   "file_extension": ".py",
   "mimetype": "text/x-python",
   "name": "python",
   "nbconvert_exporter": "python",
   "pygments_lexer": "ipython3",
   "version": "3.9.13"
  }
 },
 "nbformat": 4,
 "nbformat_minor": 5
}
